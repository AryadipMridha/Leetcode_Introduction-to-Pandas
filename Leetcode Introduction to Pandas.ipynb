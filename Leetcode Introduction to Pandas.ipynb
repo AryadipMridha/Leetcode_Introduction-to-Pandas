{
 "cells": [
  {
   "cell_type": "markdown",
   "id": "a7c8054d-b87e-4c92-9a9d-2e1f50b76b89",
   "metadata": {},
   "source": [
    "### Create a DataFrame from List"
   ]
  },
  {
   "cell_type": "code",
   "execution_count": null,
   "id": "d96589a7-0ffe-47cc-9742-0eacd662f4b2",
   "metadata": {},
   "outputs": [],
   "source": [
    "def createDataframe(student_data: List[List[int]]) -> pd.DataFrame:\n",
    "    columns=[\"student_id\",\"age\"]\n",
    "    df=pd.DataFrame(student_data,columns=columns,dtype=int)\n",
    "    return df"
   ]
  },
  {
   "cell_type": "markdown",
   "id": "a30125cf-141d-4246-b6db-1b26bfe25c86",
   "metadata": {},
   "source": [
    "### Get the Size of a DataFrame"
   ]
  },
  {
   "cell_type": "code",
   "execution_count": null,
   "id": "4fc8eecf-e44b-4367-a29a-59309bda04a4",
   "metadata": {},
   "outputs": [],
   "source": [
    "def getDataframeSize(players: pd.DataFrame) -> List[int]:\n",
    "    return(list(players.shape))"
   ]
  },
  {
   "cell_type": "markdown",
   "id": "6fc6e584-19a3-402f-8bb6-7ed0bfe49a6c",
   "metadata": {},
   "source": [
    "### Display the First Three Rows"
   ]
  },
  {
   "cell_type": "code",
   "execution_count": null,
   "id": "fe07363a-eaf8-4221-ad9e-83f168a61701",
   "metadata": {},
   "outputs": [],
   "source": [
    "def selectFirstRows(employees: pd.DataFrame) -> pd.DataFrame:\n",
    "    return employees.head(3)"
   ]
  },
  {
   "cell_type": "markdown",
   "id": "188c276a-7429-460a-b2fc-ecb9d1e13144",
   "metadata": {},
   "source": [
    "### Select Data"
   ]
  },
  {
   "cell_type": "code",
   "execution_count": null,
   "id": "22ec5aa1-4f06-4f58-9ccf-5b17ad2c3805",
   "metadata": {},
   "outputs": [],
   "source": [
    "def selectData(students: pd.DataFrame) -> pd.DataFrame:\n",
    "    return students[students.student_id==101][[\"name\",\"age\"]]"
   ]
  },
  {
   "cell_type": "markdown",
   "id": "6bb9cf44-0880-477c-9ed4-db9764d65043",
   "metadata": {},
   "source": [
    "### Create a New Column"
   ]
  },
  {
   "cell_type": "code",
   "execution_count": null,
   "id": "c6d5595d-4cbf-4e3c-bae6-4ec86746dc7d",
   "metadata": {},
   "outputs": [],
   "source": [
    "def createBonusColumn(employees: pd.DataFrame) -> pd.DataFrame:\n",
    "    employees['bonus']=employees['salary']*2\n",
    "    return employees"
   ]
  },
  {
   "cell_type": "markdown",
   "id": "8a83feb1-3fab-4b3e-9fbb-6336131bb2c2",
   "metadata": {},
   "source": [
    "### Drop Duplicate Rows"
   ]
  },
  {
   "cell_type": "code",
   "execution_count": null,
   "id": "47da8842-a6be-4f7d-b172-bc3c23e91664",
   "metadata": {},
   "outputs": [],
   "source": [
    "def dropDuplicateEmails(customers: pd.DataFrame) -> pd.DataFrame:\n",
    "    return customers.drop_duplicates(subset=\"email\",keep='first')"
   ]
  },
  {
   "cell_type": "markdown",
   "id": "d009b74d-d738-4ce9-a4a7-b66f6286974b",
   "metadata": {},
   "source": [
    "### Drop Missing Data"
   ]
  },
  {
   "cell_type": "code",
   "execution_count": null,
   "id": "c3668aaa-258a-42f3-87b1-2bea007f5716",
   "metadata": {},
   "outputs": [],
   "source": [
    "def dropMissingData(students: pd.DataFrame) -> pd.DataFrame:\n",
    "    result=students.dropna(subset=['name'])\n",
    "    return result "
   ]
  },
  {
   "cell_type": "markdown",
   "id": "a63f2ecb-efaa-40ff-bd8d-c72a39f99788",
   "metadata": {},
   "source": [
    "### Modify Columns"
   ]
  },
  {
   "cell_type": "code",
   "execution_count": null,
   "id": "2a2191c4-8c05-4b9f-a23a-2c9d7f4668f1",
   "metadata": {},
   "outputs": [],
   "source": [
    "def dropMissingData(students: pd.DataFrame) -> pd.DataFrame:\n",
    "    result=students.dropna(subset=['name'])\n",
    "    return result "
   ]
  }
 ],
 "metadata": {
  "kernelspec": {
   "display_name": "Python 3 (ipykernel)",
   "language": "python",
   "name": "python3"
  },
  "language_info": {
   "codemirror_mode": {
    "name": "ipython",
    "version": 3
   },
   "file_extension": ".py",
   "mimetype": "text/x-python",
   "name": "python",
   "nbconvert_exporter": "python",
   "pygments_lexer": "ipython3",
   "version": "3.11.7"
  }
 },
 "nbformat": 4,
 "nbformat_minor": 5
}
